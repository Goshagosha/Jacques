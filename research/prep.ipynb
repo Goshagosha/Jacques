{
 "cells": [
  {
   "cell_type": "code",
   "execution_count": 2,
   "metadata": {},
   "outputs": [],
   "source": [
    "import pandas as pd\n",
    "from matplotlib import pyplot as plt\n"
   ]
  },
  {
   "cell_type": "code",
   "execution_count": 3,
   "metadata": {},
   "outputs": [
    {
     "name": "stderr",
     "output_type": "stream",
     "text": [
      "/var/folders/pq/9pks_cwx6ndb681g1jcg3dd80000gn/T/ipykernel_9593/1616347433.py:11: FutureWarning: In future versions `DataFrame.to_latex` is expected to utilise the base implementation of `Styler.to_latex` for formatting and rendering. The arguments signature may therefore change. It is recommended instead to use `DataFrame.style.to_latex` which also contains additional functionality.\n",
      "  pandas_result.to_latex('pandas.tex', index=False)\n"
     ]
    }
   ],
   "source": [
    "header = ['Length',  'Redundancy',  'Number of examples',  'To learn',  'Learned',  'With mistake',  'Imprecise',  'Excepted']\n",
    "\n",
    "pandas_result = pd.read_csv('pandas.csv', lineterminator=';')\n",
    "polars_result = pd.read_csv('polars.csv', lineterminator=';')\n",
    "spark_result = pd.read_csv('spark.csv', lineterminator=';')\n",
    "\n",
    "pandas_result.columns = header\n",
    "polars_result.columns = header\n",
    "spark_result.columns = header"
   ]
  },
  {
   "cell_type": "code",
   "execution_count": 5,
   "metadata": {},
   "outputs": [
    {
     "name": "stderr",
     "output_type": "stream",
     "text": [
      "/var/folders/pq/9pks_cwx6ndb681g1jcg3dd80000gn/T/ipykernel_9593/1207961527.py:6: FutureWarning: In future versions `DataFrame.to_latex` is expected to utilise the base implementation of `Styler.to_latex` for formatting and rendering. The arguments signature may therefore change. It is recommended instead to use `DataFrame.style.to_latex` which also contains additional functionality.\n",
      "  pandas_result.to_latex('pandas.tex', index=False, header=['\\\\rotatebox{90}{' + c + '}' for c in pandas_result.columns])\n",
      "/var/folders/pq/9pks_cwx6ndb681g1jcg3dd80000gn/T/ipykernel_9593/1207961527.py:7: FutureWarning: In future versions `DataFrame.to_latex` is expected to utilise the base implementation of `Styler.to_latex` for formatting and rendering. The arguments signature may therefore change. It is recommended instead to use `DataFrame.style.to_latex` which also contains additional functionality.\n",
      "  polars_result.to_latex('polars.tex', index=False, header=['\\\\rotatebox{90}{' + c + '}' for c in polars_result.columns])\n",
      "/var/folders/pq/9pks_cwx6ndb681g1jcg3dd80000gn/T/ipykernel_9593/1207961527.py:8: FutureWarning: In future versions `DataFrame.to_latex` is expected to utilise the base implementation of `Styler.to_latex` for formatting and rendering. The arguments signature may therefore change. It is recommended instead to use `DataFrame.style.to_latex` which also contains additional functionality.\n",
      "  spark_result.to_latex('spark.tex', index=False, header=['\\\\rotatebox{90}{' + c + '}' for c in spark_result.columns])\n"
     ]
    }
   ],
   "source": [
    "for df in [pandas_result, polars_result, spark_result]:\n",
    "    df['Learned ratio'] = (df['Learned'] / df['To learn']).round(2)\n",
    "    df['Mistakes to learned'] = (df['With mistake'] / df['Learned']).round(2)\n",
    "    df['Imprecise to learned'] = (df['Imprecise'] / df['Learned']).round(2)\n",
    "\n",
    "pandas_result.to_latex('pandas.tex', index=False, escape = False, header=['\\\\rotatebox{90}{' + c + '}' for c in pandas_result.columns])\n",
    "polars_result.to_latex('polars.tex', index=False, escape = False, header=['\\\\rotatebox{90}{' + c + '}' for c in polars_result.columns])\n",
    "spark_result.to_latex('spark.tex', index=False, escape = False, header=['\\\\rotatebox{90}{' + c + '}' for c in spark_result.columns])"
   ]
  },
  {
   "cell_type": "code",
   "execution_count": 58,
   "metadata": {},
   "outputs": [
    {
     "name": "stdout",
     "output_type": "stream",
     "text": [
      "   Length    Pandas    Polars  Spark\n",
      "0       1       NaN       NaN    NaN\n",
      "1       2  1.000000  0.857143    1.0\n",
      "2       4  0.956522       NaN    1.0\n",
      "3       6       NaN       NaN    NaN\n"
     ]
    },
    {
     "data": {
      "text/plain": [
       "<AxesSubplot: xlabel='Length'>"
      ]
     },
     "execution_count": 58,
     "metadata": {},
     "output_type": "execute_result"
    },
    {
     "data": {
      "image/png": "[encoded data removed]",
      "text/plain": [
       "<Figure size 640x480 with 1 Axes>"
      ]
     },
     "metadata": {},
     "output_type": "display_data"
    }
   ],
   "source": [
    "ratio_to_length_mean = pd.DataFrame({})\n",
    "ratio_to_length_mean['Length'] = pandas_result['Length'].unique()\n",
    "ratio_to_length_mean['Pandas'] = pandas_result.groupby('Length').mean()['Learned ratio']\n",
    "ratio_to_length_mean['Polars'] = polars_result.groupby('Length').mean()['Learned ratio']\n",
    "ratio_to_length_mean['Spark'] = spark_result.groupby('Length').mean()['Learned ratio']\n",
    "print(ratio_to_length_mean)\n",
    "pandas_result.groupby('Length').mean().plot.bar(y='Learned ratio', label='Pandas-mean', color='blue')\n",
    "polars_result.groupby('Length').mean().plot.bar(y='Learned ratio', ax=length_plot, label='Polars-mean', color='red')\n",
    "spark_result.groupby('Length').mean().plot.bar(y='Learned ratio', ax=length_plot, label='Spark-mean', color='green')"
   ]
  },
  {
   "cell_type": "code",
   "execution_count": null,
   "metadata": {},
   "outputs": [],
   "source": [
    "redundancy_plot = pandas_result[pandas_result['Length']>1].groupby('Redundancy').mean().plot(y='Learned ratio', label='Pandas', style='o')\n",
    "polars_result[polars_result['Length']>1].groupby('Redundancy').mean().plot(y='Learned ratio', ax=redundancy_plot, label='Polars', style='o')\n",
    "spark_result[spark_result['Length']>1].groupby('Redundancy').mean().plot(y='Learned ratio', ax=redundancy_plot, label='Spark', style='o')"
   ]
  }
 ],
 "metadata": {
  "kernelspec": {
   "display_name": "Python 3.10.7 64-bit",
   "language": "python",
   "name": "python3"
  },
  "language_info": {
   "codemirror_mode": {
    "name": "ipython",
    "version": 3
   },
   "file_extension": ".py",
   "mimetype": "text/x-python",
   "name": "python",
   "nbconvert_exporter": "python",
   "pygments_lexer": "ipython3",
   "version": "3.10.7"
  },
  "orig_nbformat": 4,
  "vscode": {
   "interpreter": {
    "hash": "aee8b7b246df8f9039afb4144a1f6fd8d2ca17a180786b69acc140d282b71a49"
   }
  }
 },
 "nbformat": 4,
 "nbformat_minor": 2
}
